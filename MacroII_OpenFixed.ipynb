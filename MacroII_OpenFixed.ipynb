{
 "cells": [
  {
   "cell_type": "markdown",
   "id": "dea1162b",
   "metadata": {},
   "source": [
    "# AS-AD model for the small open economy with fixed exchange rates\n",
    "The AS-AD model for the small open economy with a credible fixed exchange rate can be summerized by the three equations: \n",
    "\\begin{align}\n",
    "\\pi_t&=\\pi_t^f+\\gamma(y_t-\\bar{y})+s_t \\tag{AS} \\\\\n",
    "\\pi_t&=e_{t-1}^r+\\pi_t^f-\\frac{1}{\\beta_1}(y_t-\\bar{y}-z_t)  \\tag{AD} \\\\\n",
    "e_t^r&=e_{t-1}^r+\\pi_t^f-\\pi_t \\tag{Exchange rate dynamics}\n",
    "\\end{align}"
   ]
  },
  {
   "cell_type": "markdown",
   "id": "55feb005",
   "metadata": {},
   "source": [
    "## User Guide\n",
    "- Step 1: Click on the ***Runtime (Danish: Køreselstid)*** menu at the top and then ***Run all (Kør alle)***\n",
    "- Step 2: Scroll down to the section ***Interactive plots*** to find the interactive plots*\n",
    "- Step 3: You can now play around with the different sliders to investiage the effects of model parameters"
   ]
  },
  {
   "cell_type": "markdown",
   "id": "fb77c6df",
   "metadata": {},
   "source": [
    "## Importing packages"
   ]
  },
  {
   "cell_type": "code",
   "execution_count": 52,
   "id": "c0e840b7",
   "metadata": {},
   "outputs": [],
   "source": [
    "import numpy as np\n",
    "import matplotlib.pyplot as plt\n",
    "from ipywidgets import interact, interactive, fixed, interact_manual, Label, interactive_output\n",
    "from IPython.display import display\n",
    "import ipywidgets as widgets"
   ]
  },
  {
   "cell_type": "markdown",
   "id": "921aad78",
   "metadata": {},
   "source": [
    "## Plotting function"
   ]
  },
  {
   "cell_type": "markdown",
   "id": "b37d5d66",
   "metadata": {},
   "source": [
    "Defining functions that computes the AS and AD curve and IRFs"
   ]
  },
  {
   "cell_type": "code",
   "execution_count": 53,
   "id": "4377c56e",
   "metadata": {},
   "outputs": [],
   "source": [
    "# Defining the AD curve\n",
    "def AD(pif, erbef, beta1, ybar, z, grid):\n",
    "    AD = erbef + pif - 1/beta1*(grid - ybar - z)\n",
    "    return AD\n",
    "    \n",
    "# Defining the AS curve\n",
    "def AS(pif, gamma, ybar, s, grid):\n",
    "    AS = pif + gamma*(grid - ybar) + s\n",
    "    return AS\n",
    "\n",
    "# Computing the equilibrium in each period\n",
    "def equilibrium(pif, erbef, beta1, gamma, ybar, z, s):\n",
    "    y_eq = beta1/(1+gamma*beta1) * (erbef + 1/beta1*z-s) + ybar\n",
    "    pi_eq = pif + beta1*gamma/(1+gamma*beta1) * (erbef + 1/beta1*z-s) + s\n",
    "    return y_eq, pi_eq\n",
    "\n",
    "# Coding a function that successively computes the model\n",
    "def AS_solve(pif, beta1, gamma, ybar, z, s, N, grid):\n",
    "    y_eq, pi_eq, er = np.zeros([N]), np.zeros([N]), np.zeros([N])\n",
    "    AS_matrix, AD_matrix = np.zeros([len(grid), N]), np.zeros([len(grid), N])\n",
    "    y_eq[0], pi_eq[0] = ybar, pif\n",
    "    er[0] = 0\n",
    "    AS_matrix[:,0], AD_matrix[:,0] = AS(pif, gamma, ybar, 0, grid), AD(pif, 0, beta1, ybar, 0, grid)\n",
    "    for n in range(1,N):\n",
    "            if n == 1:\n",
    "                y_eq[n], pi_eq[n] = equilibrium(pif, er[n-1], beta1, gamma, ybar, z, s)\n",
    "                er[n] = er[n-1] + pif - pi_eq[n]\n",
    "                AS_matrix[:,n] = AS(pif, gamma, ybar, s, grid)\n",
    "                AD_matrix[:,n] = AD(pif, er[n-1], beta1, ybar, z, grid)\n",
    "            else:\n",
    "                y_eq[n], pi_eq[n] = equilibrium(pif, er[n-1], beta1, gamma, ybar, 0, 0)\n",
    "                er[n] = er[n-1] + pif - pi_eq[n]\n",
    "                AS_matrix[:,n] = AS(pif, gamma, ybar, 0, grid)\n",
    "                AD_matrix[:,n] = AD(pif, er[n-1], beta1, ybar, 0, grid)\n",
    "    return y_eq, pi_eq, AS_matrix, AD_matrix\n",
    "\n",
    "def IRF(pif, beta1, gamma, ybar, z, s, T):\n",
    "    y_hat, pi_hat, er = np.zeros([T+1]), np.zeros([T+1]), np.zeros([T+1])\n",
    "    y_hat[0], pi_hat[0], er[0] = ybar, pif, 0\n",
    "    for t in range(1,T+1):\n",
    "            if t == 1:\n",
    "                y_hat[t], pi_hat[t] = equilibrium(pif, er[t-1], beta1, gamma, ybar, z, s)\n",
    "                er[t] = er[t-1] + pif - pi_hat[t]\n",
    "            else:\n",
    "                y_hat[t], pi_hat[t] = equilibrium(pif, er[t-1], beta1, gamma, ybar, 0, 0)\n",
    "                er[t] = er[t-1] + pif - pi_hat[t]             \n",
    "    y_hat = y_hat - ybar\n",
    "    pi_hat = pi_hat - pif\n",
    "    return y_hat, pi_hat, er"
   ]
  },
  {
   "cell_type": "markdown",
   "id": "aa21fd0b",
   "metadata": {},
   "source": [
    "Coding the plotting function for the interactive AS-AD diagram"
   ]
  },
  {
   "cell_type": "code",
   "execution_count": 60,
   "id": "1220f678",
   "metadata": {},
   "outputs": [],
   "source": [
    "# This function creates the interactive AS-AD diagram\n",
    "def ASAD_inter_plot(pif, beta1, gamma, ybar, z, s, N, grid):\n",
    "    y_seq, pi_seq, AS_seq, AD_seq = AS_solve(pif, beta1, gamma, ybar, z, s, N, grid)\n",
    "    fig, ax1 = plt.subplots(figsize=(12, 6), dpi = 400)\n",
    "\n",
    "    # Plot the curves\n",
    "    ax1.scatter(y_seq, pi_seq, label='AD', color = 'black', zorder=4)\n",
    "    ax1.plot(grid, AS_seq, label='AS', color = 'red')\n",
    "    ax1.plot(grid, AD_seq, label='AD', color = 'blue')\n",
    "    ax1.set_xlabel('Output (y)', fontsize = 12)\n",
    "    ax1.set_ylabel('Inflation ($\\pi$)', fontsize = 12)\n",
    "    ax1.grid(True, zorder=0, linestyle = '--')\n",
    "    ax1.set_ylim((0, int(max(pi_seq)+2)))\n",
    "    ax1.set_xlim((grid[0], int(max(y_seq)+2)))\n",
    "    x_coordinate = ybar\n",
    "    plt.axvline(x=x_coordinate, color='r', linestyle='-', label='Vertical Line at x={}'.format(x_coordinate))\n",
    "    \n",
    "    # Adding annotation\n",
    "    plt.text(ybar+0.05, int(max(pi_seq))+1.75, f'$LRAS$',fontsize = 14)\n",
    "    plt.text(y_seq[0]+0.01, 0.05, r'$\\bar{y}$',fontsize = 10)\n",
    "    plt.text(0.01, pi_seq[0]+0.02, '$\\pi^f$',fontsize = 10)\n",
    "    for i in range(N):\n",
    "        plt.annotate(\"\",xy=(y_seq[i], pi_seq[i]), xytext=(y_seq[i], 0), arrowprops=dict(width=0.1, color='grey', headwidth=0.01, headlength=0.01))\n",
    "        plt.annotate(\"\",xy=(y_seq[i], pi_seq[i]), xytext=(0, pi_seq[i]), arrowprops=dict(width=0.1, color='grey', headwidth=0.01, headlength=0.01))\n",
    "    for i in range(1,N):\n",
    "        plt.text(y_seq[i]+0.01, 0.05, f'$y_{i}$',fontsize = 10)\n",
    "        plt.text(0.01, pi_seq[i]+0.05, f'$\\pi_{i}$',fontsize = 10)\n",
    "        plt.text(y_seq[i]-0.03, pi_seq[i]+0.08, f'$E_{i}$',fontsize = 10)\n",
    "    plt.title(\"AS-AD Diagram for Small Open Economy with Fixed Exchange Rate\", fontsize = 16) \n",
    "\n",
    "    plt.show()"
   ]
  },
  {
   "cell_type": "markdown",
   "id": "c5fb1b2f",
   "metadata": {},
   "source": [
    "Coding the plotting function for the interactive impulse response diagram"
   ]
  },
  {
   "cell_type": "code",
   "execution_count": 61,
   "id": "1b76fdda",
   "metadata": {},
   "outputs": [],
   "source": [
    "# Defining the plotting function for the impulse response functions\n",
    "def irf_inter_plot(pif, beta1, gamma, ybar, z, s, T):\n",
    "    T_grid = [t for t in range(T+1)]\n",
    "    y_hat, pi_hat, er = IRF(pif, beta1, gamma, ybar, z, s, T)\n",
    "    fig, ax1 = plt.subplots(figsize=(12, 6), dpi = 400)\n",
    "\n",
    "    # Plot on primary y-axis\n",
    "    ax1.plot(T_grid, y_hat, label=r'Output $(\\hat{y}_t = \\equiv y_t - \\bar{y})$', color = 'red')\n",
    "    ax1.plot(T_grid, pi_hat, label=r'Inflation $(\\hat{\\pi}_t \\equiv \\pi_t - \\pi^f)$', color = 'blue')\n",
    "    ax1.plot(T_grid, er, label=r'Real Exchange Rate $(e^r)$', color = 'orange')\n",
    "    ax1.set_xlabel('Horizon', fontsize = 12)\n",
    "    ax1.set_ylabel('Deviation from steady state', fontsize = 12)\n",
    "    ax1.set_xlim((T_grid[0], T_grid[-1]))\n",
    "    ax1.grid(True, zorder=0, linestyle = '--')\n",
    "\n",
    "    # Add legend\n",
    "    lines, labels = ax1.get_legend_handles_labels()\n",
    "    ax1.legend(lines, labels, loc='upper right')\n",
    "    plt.title(\"IRFs for Open Economy AS-AD model with Fixed Exchange Rate\", fontsize = 16) \n",
    "\n",
    "    plt.show() "
   ]
  },
  {
   "cell_type": "markdown",
   "id": "3ecafb2d",
   "metadata": {},
   "source": [
    "# Interactive plots"
   ]
  },
  {
   "cell_type": "markdown",
   "id": "4d9c1fb4",
   "metadata": {},
   "source": [
    "This cell just creates all the sliders needed for the plot to work (looks slightly involed but is very repetitive)"
   ]
  },
  {
   "cell_type": "code",
   "execution_count": 64,
   "id": "01fd7227",
   "metadata": {},
   "outputs": [],
   "source": [
    "# Creating sliders for different model parameters\n",
    "z_slider = widgets.FloatSlider(value=1,min=-4.0,max=4.0,step=0.1,description=r\"$z$\",continuous_update=False)\n",
    "s_slider = widgets.FloatSlider(value=0,min=-4.0,max=4.0,step=0.1,description=r\"$s$\",continuous_update=False)\n",
    "beta1_slider = widgets.FloatSlider(value=1.5,min=0.0,max=3.0,step=0.1,description=r\"$\\beta_1$\",continuous_update=False)\n",
    "gamma_slider = widgets.FloatSlider(value=1.5,min=0.0,max=3.0,step=0.1,description=r\"$\\gamma$\",continuous_update=False)\n",
    "ybar_slider = widgets.FloatSlider(value=2,min=0.0,max=4.0,step=0.5,description=r\"$\\bar{y}$\",continuous_update=False)\n",
    "pif_slider = widgets.FloatSlider(value=2,min=0.0,max=4.0,step=0.5,description=r\"$\\pi^f$\",continuous_update=False)\n",
    "N_slider = widgets.IntSlider(value=3,min=1,max=5,step=1,description=r\"$N$\",continuous_update=False)\n",
    "T_slider = widgets.IntSlider(value=8,min=1,max=15,step=1,description=r\"$T$\",continuous_update=False)\n",
    "\n",
    "# Arrange sliders in two columns using VBox and HBox\n",
    "left_box = widgets.VBox([z_slider, s_slider, beta1_slider])\n",
    "center_box = widgets.VBox([gamma_slider, ybar_slider, pif_slider])\n",
    "right_box = widgets.VBox([N_slider])\n",
    "hbox = widgets.HBox([left_box, center_box,right_box])\n",
    "\n",
    "# Modify for the IRF plot\n",
    "right_box_irf = widgets.VBox([T_slider])\n",
    "hbox_irf = widgets.HBox([left_box, center_box, right_box_irf])"
   ]
  },
  {
   "cell_type": "markdown",
   "id": "05ec8b9e",
   "metadata": {},
   "source": [
    "## AS-AD diagram"
   ]
  },
  {
   "cell_type": "code",
   "execution_count": 65,
   "id": "88a4ed2d",
   "metadata": {
    "scrolled": false
   },
   "outputs": [
    {
     "data": {
      "application/vnd.jupyter.widget-view+json": {
       "model_id": "649c54f47b804adaaa3c76dff6784a1d",
       "version_major": 2,
       "version_minor": 0
      },
      "text/plain": [
       "HBox(children=(VBox(children=(FloatSlider(value=1.0, continuous_update=False, description='$z$', max=4.0, min=…"
      ]
     },
     "metadata": {},
     "output_type": "display_data"
    },
    {
     "data": {
      "application/vnd.jupyter.widget-view+json": {
       "model_id": "a3bfb73a3f2b40e19fb1487dd05f2096",
       "version_major": 2,
       "version_minor": 0
      },
      "text/plain": [
       "Output()"
      ]
     },
     "metadata": {},
     "output_type": "display_data"
    }
   ],
   "source": [
    "# Create the interactive plot\n",
    "plot_output = interactive_output(ASAD_inter_plot, {'pif': pif_slider, 'beta1': beta1_slider, 'gamma': gamma_slider, \n",
    "                                              'ybar': ybar_slider, 'z': z_slider, 's': s_slider, 'N': N_slider, \n",
    "                                              'grid': fixed(np.linspace(0, 10, 100))})\n",
    "display(hbox, plot_output)\n",
    "plot_output.layout.height = '550px'"
   ]
  },
  {
   "cell_type": "markdown",
   "id": "894d77e9",
   "metadata": {},
   "source": [
    "## Impulse response functions"
   ]
  },
  {
   "cell_type": "code",
   "execution_count": 59,
   "id": "8c3f93c9",
   "metadata": {},
   "outputs": [
    {
     "data": {
      "application/vnd.jupyter.widget-view+json": {
       "model_id": "ef5e82392e7b406cbd4e414464c09fc1",
       "version_major": 2,
       "version_minor": 0
      },
      "text/plain": [
       "HBox(children=(VBox(children=(FloatSlider(value=1.0, continuous_update=False, description='$z$', max=4.0, min=…"
      ]
     },
     "metadata": {},
     "output_type": "display_data"
    },
    {
     "data": {
      "application/vnd.jupyter.widget-view+json": {
       "model_id": "c889ff2d22a6445192422aee6da6f1f8",
       "version_major": 2,
       "version_minor": 0
      },
      "text/plain": [
       "Output()"
      ]
     },
     "metadata": {},
     "output_type": "display_data"
    }
   ],
   "source": [
    "# Create the interactive plot\n",
    "plot_output = interactive_output(irf_inter_plot, {'pif': pif_slider, 'beta1': beta1_slider, 'gamma': gamma_slider, \n",
    "                                              'ybar': ybar_slider, 'z': z_slider, 's': s_slider, 'T': T_slider})\n",
    "display(hbox_irf, plot_output)\n",
    "plot_output.layout.height = '550px'"
   ]
  }
 ],
 "metadata": {
  "kernelspec": {
   "display_name": "Python 3 (ipykernel)",
   "language": "python",
   "name": "python3"
  },
  "language_info": {
   "codemirror_mode": {
    "name": "ipython",
    "version": 3
   },
   "file_extension": ".py",
   "mimetype": "text/x-python",
   "name": "python",
   "nbconvert_exporter": "python",
   "pygments_lexer": "ipython3",
   "version": "3.9.7"
  }
 },
 "nbformat": 4,
 "nbformat_minor": 5
}

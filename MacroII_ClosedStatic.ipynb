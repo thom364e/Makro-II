{
 "cells": [
  {
   "cell_type": "markdown",
   "id": "5fdaa31b",
   "metadata": {},
   "source": [
    "# AS-AD model for the closed economy with static inflation expectations\n",
    "The AS-AD model for the closed economy with static inflation expectations can be expressed in two equations: \n",
    "\\begin{align}\n",
    "\\pi_t&=\\pi_{t-1}+\\gamma\\left(y_t-\\bar{y}\\right)+s_t \\tag{AS} \\\\\n",
    "y_t-\\bar{y}&=-\\alpha\\left(\\pi_t-\\pi^*\\right)+z_t, \\quad \\alpha \\equiv \\frac{\\alpha_2 h}{1+\\alpha_2 b}  \\tag{AD}\n",
    "\\end{align}\n",
    "\n"
   ]
  },
  {
   "cell_type": "markdown",
   "id": "dabbe82f",
   "metadata": {},
   "source": [
    "## User Guide\n",
    "- Step 1: Click on the ***Runtime (Danish: Køreselstid)*** menu at the top and then ***Run all (Kør alle)***\n",
    "- Step 2: Scroll down to the section ***Interactive plots*** to find the interactive plots*\n",
    "- Step 3: You can now play around with the different sliders to investiage the effects of model parameters"
   ]
  },
  {
   "cell_type": "markdown",
   "id": "61a534e8",
   "metadata": {},
   "source": [
    "## Importing packages"
   ]
  },
  {
   "cell_type": "code",
   "execution_count": 84,
   "id": "0684a951",
   "metadata": {},
   "outputs": [],
   "source": [
    "import numpy as np\n",
    "import matplotlib.pyplot as plt\n",
    "from ipywidgets import interact, interactive, fixed, interact_manual, Label, interactive_output\n",
    "from IPython.display import display\n",
    "import ipywidgets as widgets"
   ]
  },
  {
   "cell_type": "markdown",
   "id": "94f169ac",
   "metadata": {},
   "source": [
    "## Plotting function"
   ]
  },
  {
   "cell_type": "code",
   "execution_count": 85,
   "id": "04279c5c",
   "metadata": {},
   "outputs": [],
   "source": [
    "# Defining the AD curve\n",
    "def AD(alpha2, h, b, ybar, pistar, z, grid):\n",
    "    alpha = (alpha2*h)/(1+alpha2*b)\n",
    "    AD = pistar - 1/alpha * (grid - ybar) + 1/alpha*z\n",
    "    return AD\n",
    "    \n",
    "# Defining the AS curve\n",
    "def AS(pibef, gamma, ybar, s, grid):\n",
    "    AS = pibef + gamma*(grid - ybar) + s\n",
    "    return AS\n",
    "\n",
    "# Computing the equilibrium in each period\n",
    "def equilibrium(alpha2, h, b, gamma, ybar, pistar, pibef, z, s):\n",
    "    alpha = (alpha2*h)/(1+alpha2*b)\n",
    "    y_eq = alpha / (1+alpha*gamma) * (pistar + 1/alpha*z - pibef - s) + ybar\n",
    "    pi_eq = pibef + gamma*alpha/(1 + gamma*alpha) * (pistar+1/alpha*z-pibef-s) + s\n",
    "    return y_eq, pi_eq\n",
    "\n",
    "def AS_solve(alpha2, h, b, gamma, ybar, pistar, z, s, N, grid):\n",
    "#     z, s = np.array(z_inp), np.array(s_inp)\n",
    "    y_eq, pi_eq = np.zeros([N]), np.zeros([N])\n",
    "    AS_matrix, AD_matrix = np.zeros([len(grid), N]), np.zeros([len(grid), N])\n",
    "    y_eq[0], pi_eq[0] = ybar, pistar\n",
    "    AS_matrix[:,0], AD_matrix[:,0] = AS(pistar, gamma, ybar, 0, grid), AD(alpha2, h, b, ybar, pistar, 0, grid)\n",
    "    for n in range(1,N):\n",
    "            if n == 1: \n",
    "                y_eq[n], pi_eq[n] = equilibrium(alpha2, h, b, gamma, ybar, pistar, pi_eq[n-1], z, s)\n",
    "                AS_matrix[:,n] = AS(pi_eq[n-1], gamma, ybar, s, grid)\n",
    "                AD_matrix[:,n] = AD(alpha2, h, b, ybar, pistar, z, grid)\n",
    "            else:\n",
    "                y_eq[n], pi_eq[n] = equilibrium(alpha2, h, b, gamma, ybar, pistar, pi_eq[n-1], 0, 0)\n",
    "                AS_matrix[:,n] = AS(pi_eq[n-1], gamma, ybar, 0, grid)\n",
    "                AD_matrix[:,n] = AD(alpha2, h, b, ybar, pistar, 0, grid)                \n",
    "    return y_eq, pi_eq, AS_matrix, AD_matrix\n",
    "\n",
    "def IRF(alpha2, h, b, gamma, ybar, pistar, z, s, T):\n",
    "    y_hat, pi_hat = np.zeros([T+1]), np.zeros([T+1])\n",
    "    y_hat[0], pi_hat[0] = ybar, pistar\n",
    "    for t in range(1,T+1):\n",
    "            if t == 1:\n",
    "                y_hat[t], pi_hat[t] = equilibrium(alpha2, h, b, gamma, ybar, pistar, pi_hat[t-1], z, s)\n",
    "            else:\n",
    "                y_hat[t], pi_hat[t] = equilibrium(alpha2, h, b, gamma, ybar, pistar, pi_hat[t-1], 0, 0)\n",
    "    y_hat = y_hat - ybar\n",
    "    pi_hat = pi_hat - pistar\n",
    "    return y_hat, pi_hat"
   ]
  },
  {
   "cell_type": "markdown",
   "id": "0b88131e",
   "metadata": {},
   "source": [
    "Coding the plotting function for the interactive AS-AD diagram"
   ]
  },
  {
   "cell_type": "code",
   "execution_count": 86,
   "id": "576f2e39",
   "metadata": {},
   "outputs": [],
   "source": [
    "def inter_plot(alpha2, h, b, gamma, ybar, pistar, z, s, N, grid):\n",
    "    y_seq, pi_seq, AS_seq, AD_seq = AS_solve(alpha2, h, b, gamma, ybar, pistar, z, s, N, grid)\n",
    "    fig, ax1 = plt.subplots(figsize=(12, 6), dpi = 200)\n",
    "\n",
    "    # Plot on primary y-axis\n",
    "    ax1.scatter(y_seq, pi_seq, label='AD', color = 'black', zorder=4)\n",
    "    ax1.plot(grid, AS_seq, label='AS', color = 'red')\n",
    "    ax1.plot(grid, AD_seq[:,0:2], label='AD', color = 'blue')\n",
    "    ax1.set_xlabel('Output (y)', fontsize = 12)\n",
    "    ax1.set_ylabel('Inflation ($\\pi$)', fontsize = 12)\n",
    "    ax1.grid(True, zorder=0, linestyle = '--')\n",
    "    ax1.set_ylim((0, int(max(pi_seq)+2)))\n",
    "    ax1.set_xlim((grid[0], int(max(y_seq)+2)))\n",
    "    x_coordinate = ybar\n",
    "    plt.axvline(x=x_coordinate, color='r', linestyle='-', label='Vertical Line at x={}'.format(x_coordinate))\n",
    "    plt.text(ybar+0.05, int(max(pi_seq))+1.75, f'$LRAS$',fontsize = 14)\n",
    "    \n",
    "    for i in range(N):\n",
    "        plt.annotate(\"\",xy=(y_seq[i], pi_seq[i]), xytext=(y_seq[i], 0), arrowprops=dict(width=0.1, color='grey', headwidth=0.01, headlength=0.01))\n",
    "        plt.annotate(\"\",xy=(y_seq[i], pi_seq[i]), xytext=(0, pi_seq[i]), arrowprops=dict(width=0.1, color='grey', headwidth=0.01, headlength=0.01))\n",
    "\n",
    "    for i in range(1,N):\n",
    "        plt.text(y_seq[i]-0.03, pi_seq[i]+0.08, f'$E_{i}$',fontsize = 10)\n",
    "        \n",
    "    plt.text(y_seq[0]+0.01, 0.05, r'$\\bar{y}$',fontsize = 10)\n",
    "    plt.text(0.01, pi_seq[0]+0.02, '$\\pi^*$',fontsize = 10)\n",
    "    for i in range(1,N):\n",
    "        plt.text(y_seq[i]+0.01, 0.08, f'$y_{i}$',fontsize = 10)\n",
    "        plt.text(0.01, pi_seq[i]+0.05, f'$\\pi_{i}$',fontsize = 10)\n",
    "\n",
    "    lines, labels = ax1.get_legend_handles_labels()\n",
    "    plt.title(\"AS-AD Diagram with static expectations\", fontsize = 16) \n",
    "\n",
    "    plt.show() "
   ]
  },
  {
   "cell_type": "markdown",
   "id": "d3f04747",
   "metadata": {},
   "source": [
    "Coding the plotting function for the interactive impulse response functions"
   ]
  },
  {
   "cell_type": "code",
   "execution_count": 87,
   "id": "1eb6081c",
   "metadata": {},
   "outputs": [],
   "source": [
    "def irf_inter_plot(alpha2, h, b, gamma, ybar, pistar, z, s, T):\n",
    "    T_grid = [t for t in range(T+1)]\n",
    "    y_hat, pi_hat = IRF(alpha2, h, b, gamma, ybar, pistar, z, s, T)\n",
    "    \n",
    "    fig, ax1 = plt.subplots(figsize=(12, 6), dpi = 400)\n",
    "\n",
    "    # Plot on primary y-axis\n",
    "    ax1.plot(T_grid, y_hat, label=r'Output gap $(\\hat{y}_t \\equiv y_t - \\bar{y})$', color = 'red')\n",
    "    ax1.plot(T_grid, pi_hat, label=r'Inflation gap $(\\hat{\\pi}_t\\equiv \\pi_t - \\pi^*))$', color = 'blue')\n",
    "#     ax1.plot(T_grid, er, label=r'Real Exchange Rate $(e^r)$', color = 'orange')\n",
    "    ax1.set_xlabel('Horizon', fontsize = 12)\n",
    "    ax1.set_ylabel('Deviation from steady state', fontsize = 12)\n",
    "    ax1.set_xlim((T_grid[0], T_grid[-1]))\n",
    "    ax1.grid(True, zorder=0, linestyle = '--')\n",
    "\n",
    "    # Add legend\n",
    "    lines, labels = ax1.get_legend_handles_labels()\n",
    "    ax1.legend(lines, labels, loc='upper right', fontsize = 12)\n",
    "    plt.title(\"IRFs for Open Economy AS-AD model with Fixed Exchange Rate\", fontsize = 16) \n",
    "\n",
    "    plt.show() "
   ]
  },
  {
   "cell_type": "markdown",
   "id": "9bd02cf5",
   "metadata": {},
   "source": [
    "# Interactive plots"
   ]
  },
  {
   "cell_type": "markdown",
   "id": "6d1f5a04",
   "metadata": {},
   "source": [
    "This cell just creates all the sliders needed for the plot to work (looks involed but is very repetitive)"
   ]
  },
  {
   "cell_type": "code",
   "execution_count": 91,
   "id": "ac4447aa",
   "metadata": {},
   "outputs": [],
   "source": [
    "# Creating sliders for different model parameters\n",
    "z_slider = widgets.FloatSlider(value=1,min=-4.0,max=4.0,step=1.0,description=r\"$z$\",continuous_update=False)\n",
    "s_slider = widgets.FloatSlider(value=0,min=-4.0,max=4.0,step=1.0,description=r\"$s$\",continuous_update=False)\n",
    "alpha2_slider = widgets.FloatSlider(value=1.5,min=0.0,max=3.0,step=0.1,description=r\"$\\alpha_2$\",continuous_update=False)\n",
    "gamma_slider = widgets.FloatSlider(value=1.5,min=0.0,max=3.0,step=0.1,description=r\"$\\gamma$\",continuous_update=False)\n",
    "h_slider = widgets.FloatSlider(value=1.5,min=0.0,max=3.0,step=0.1,description=r\"$h$\",continuous_update=False)\n",
    "b_slider = widgets.FloatSlider(value=1.5,min=0.0,max=3.0,step=0.1,description=r\"$b$\",continuous_update=False)\n",
    "ybar_slider = widgets.FloatSlider(value=2,min=0.0,max=4.0,step=0.5,description=r\"$\\bar{y}$\",continuous_update=False)\n",
    "pistar_slider = widgets.FloatSlider(value=2,min=0.0,max=4.0,step=0.5,description=r\"$\\pi^*$\",continuous_update=False)\n",
    "N_slider = widgets.IntSlider(value=3,min=1,max=5,step=1,description=r\"$N$\",continuous_update=False)\n",
    "T_slider = widgets.IntSlider(value=8,min=1,max=15,step=1,description=r\"$T$\",continuous_update=False)\n",
    "\n",
    "# Arrange sliders in two columns using VBox and HBox\n",
    "left_box = widgets.VBox([z_slider, s_slider, alpha2_slider])\n",
    "center_box = widgets.VBox([gamma_slider, h_slider, b_slider])\n",
    "right_box_asad = widgets.VBox([ybar_slider, pistar_slider, N_slider])\n",
    "hbox_asad = widgets.HBox([left_box, center_box,right_box_asad])\n",
    "\n",
    "right_box_irf = widgets.VBox([ybar_slider, pistar_slider, N_slider])\n",
    "hbox_irf = widgets.HBox([left_box, center_box,right_box_irf])"
   ]
  },
  {
   "cell_type": "markdown",
   "id": "de4dcb5b",
   "metadata": {},
   "source": [
    "## AS-AD diagram"
   ]
  },
  {
   "cell_type": "code",
   "execution_count": 92,
   "id": "6a553ef2",
   "metadata": {},
   "outputs": [
    {
     "data": {
      "application/vnd.jupyter.widget-view+json": {
       "model_id": "1b353dad389a49ca884ed6103adf2cf9",
       "version_major": 2,
       "version_minor": 0
      },
      "text/plain": [
       "HBox(children=(VBox(children=(FloatSlider(value=1.0, continuous_update=False, description='$z$', max=4.0, min=…"
      ]
     },
     "metadata": {},
     "output_type": "display_data"
    },
    {
     "data": {
      "application/vnd.jupyter.widget-view+json": {
       "model_id": "f1aef9e85cf54838a8342306b04995a6",
       "version_major": 2,
       "version_minor": 0
      },
      "text/plain": [
       "Output()"
      ]
     },
     "metadata": {},
     "output_type": "display_data"
    }
   ],
   "source": [
    "# Create the interactive AS-AD diagram\n",
    "plot_output = interactive_output(inter_plot, {'alpha2': alpha2_slider, 'gamma': gamma_slider, 'ybar': ybar_slider, \n",
    "                                              'pistar': pistar_slider, 'z': z_slider, 's': s_slider, 'N': N_slider, \n",
    "                                              'grid': fixed(np.linspace(0, 10, 100)), 'b': b_slider, 'h': h_slider})\n",
    "display(hbox_asad, plot_output)\n",
    "plot_output.layout.height = '550px'"
   ]
  },
  {
   "cell_type": "markdown",
   "id": "f6f2b2d4",
   "metadata": {},
   "source": [
    "## Impulse-response functions"
   ]
  },
  {
   "cell_type": "code",
   "execution_count": 93,
   "id": "b4bc36c8",
   "metadata": {
    "scrolled": false
   },
   "outputs": [
    {
     "data": {
      "application/vnd.jupyter.widget-view+json": {
       "model_id": "e49d094588cc4dccbf7f268eaa9f6355",
       "version_major": 2,
       "version_minor": 0
      },
      "text/plain": [
       "HBox(children=(VBox(children=(FloatSlider(value=1.0, continuous_update=False, description='$z$', max=4.0, min=…"
      ]
     },
     "metadata": {},
     "output_type": "display_data"
    },
    {
     "data": {
      "application/vnd.jupyter.widget-view+json": {
       "model_id": "4a8e0e864ece4210bba8eb3bc446538e",
       "version_major": 2,
       "version_minor": 0
      },
      "text/plain": [
       "Output()"
      ]
     },
     "metadata": {},
     "output_type": "display_data"
    }
   ],
   "source": [
    "# Create the interactive plot\n",
    "plot_output = interactive_output(irf_inter_plot, {'alpha2': alpha2_slider, 'h': h_slider, 'b': b_slider, \n",
    "                                                  'gamma': gamma_slider, 'ybar': ybar_slider, 'pistar': pistar_slider, \n",
    "                                                  'z': z_slider, 's': s_slider, 'T': T_slider})\n",
    "display(hbox_irf, plot_output)\n",
    "plot_output.layout.height = '550px'"
   ]
  }
 ],
 "metadata": {
  "kernelspec": {
   "display_name": "Python 3 (ipykernel)",
   "language": "python",
   "name": "python3"
  },
  "language_info": {
   "codemirror_mode": {
    "name": "ipython",
    "version": 3
   },
   "file_extension": ".py",
   "mimetype": "text/x-python",
   "name": "python",
   "nbconvert_exporter": "python",
   "pygments_lexer": "ipython3",
   "version": "3.9.7"
  }
 },
 "nbformat": 4,
 "nbformat_minor": 5
}
